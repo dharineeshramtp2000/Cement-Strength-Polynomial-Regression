{
  "nbformat": 4,
  "nbformat_minor": 0,
  "metadata": {
    "colab": {
      "name": "Concrete Strength predictor.ipynb",
      "provenance": [],
      "authorship_tag": "ABX9TyPFnN00YbsQG+0RSNpiW9I9",
      "include_colab_link": true
    },
    "kernelspec": {
      "name": "python3",
      "display_name": "Python 3"
    }
  },
  "cells": [
    {
      "cell_type": "markdown",
      "metadata": {
        "id": "view-in-github",
        "colab_type": "text"
      },
      "source": [
        "<a href=\"https://colab.research.google.com/github/dharineeshramtp2000/Concrete-Strength-Polynomial-Regression/blob/master/Concrete_Strength_predictor.ipynb\" target=\"_parent\"><img src=\"https://colab.research.google.com/assets/colab-badge.svg\" alt=\"Open In Colab\"/></a>"
      ]
    },
    {
      "cell_type": "markdown",
      "metadata": {
        "id": "YeXAzjKBNwqk",
        "colab_type": "text"
      },
      "source": [
        "Import the Libraries"
      ]
    },
    {
      "cell_type": "code",
      "metadata": {
        "id": "jdTuSLPNNkne",
        "colab_type": "code",
        "colab": {}
      },
      "source": [
        "import numpy as np\n",
        "import pandas as pd\n",
        "import matplotlib.pyplot as plt"
      ],
      "execution_count": 0,
      "outputs": []
    },
    {
      "cell_type": "markdown",
      "metadata": {
        "id": "gLqfohHqOHfp",
        "colab_type": "text"
      },
      "source": [
        "Import the Dataset\n",
        "\n",
        "---\n",
        "The dataset contains 8 independent variables and 1 independent variable.\n"
      ]
    },
    {
      "cell_type": "code",
      "metadata": {
        "id": "gvKzcXdyOlIz",
        "colab_type": "code",
        "colab": {}
      },
      "source": [
        "Dataset = pd.read_csv(\"concrete.csv\")\n",
        "X = Dataset.iloc[:,:-1]\n",
        "y = Dataset.iloc[: ,-1]"
      ],
      "execution_count": 0,
      "outputs": []
    },
    {
      "cell_type": "markdown",
      "metadata": {
        "id": "yfbqpm5UOcuc",
        "colab_type": "text"
      },
      "source": [
        "Our approach is to get a good accuracy with Polynomial Model. Instead of changig models. Lets try with poly and see how much we are able to achieve.\n",
        "\n",
        "So here introduce the polynomial features of degree 3."
      ]
    },
    {
      "cell_type": "code",
      "metadata": {
        "id": "GExjwqM6QCha",
        "colab_type": "code",
        "colab": {}
      },
      "source": [
        "from sklearn.preprocessing import PolynomialFeatures\n",
        "poly_reg = PolynomialFeatures(degree=3)\n",
        "X = poly_reg.fit_transform(X)"
      ],
      "execution_count": 0,
      "outputs": []
    },
    {
      "cell_type": "markdown",
      "metadata": {
        "id": "n1LGOb6LQP-k",
        "colab_type": "text"
      },
      "source": [
        "Feature scaling is not needed here. But its always a good practice to feature scale."
      ]
    },
    {
      "cell_type": "code",
      "metadata": {
        "id": "bwPNpWNCQNCd",
        "colab_type": "code",
        "colab": {}
      },
      "source": [
        "from sklearn.preprocessing import StandardScaler\n",
        "sc_X = StandardScaler()\n",
        "X = sc_X.fit_transform(X)"
      ],
      "execution_count": 0,
      "outputs": []
    },
    {
      "cell_type": "markdown",
      "metadata": {
        "id": "tXN-WUF2QRsS",
        "colab_type": "text"
      },
      "source": [
        "Splitting the data into train and test"
      ]
    },
    {
      "cell_type": "code",
      "metadata": {
        "id": "dST3rETJQQ2U",
        "colab_type": "code",
        "colab": {}
      },
      "source": [
        "from sklearn.model_selection import train_test_split\n",
        "X_train , X_test, y_train , y_test = train_test_split(X, y, test_size = 0.2 , random_state = 15)"
      ],
      "execution_count": 0,
      "outputs": []
    },
    {
      "cell_type": "markdown",
      "metadata": {
        "id": "lsxFWs-MQX8A",
        "colab_type": "text"
      },
      "source": [
        "Importing the model(using SGD)"
      ]
    },
    {
      "cell_type": "code",
      "metadata": {
        "id": "URSHYox9QbLd",
        "colab_type": "code",
        "colab": {
          "base_uri": "https://localhost:8080/",
          "height": 118
        },
        "outputId": "c731b7fa-e298-450d-f496-d8823807d26b"
      },
      "source": [
        "from sklearn.linear_model import SGDRegressor\n",
        "regressor = SGDRegressor(max_iter=1000, tol=1e-3, alpha =0.001, random_state = 0, learning_rate = 'constant' , eta0 = 0.001)\n",
        "regressor.fit(X_train, y_train)"
      ],
      "execution_count": 18,
      "outputs": [
        {
          "output_type": "execute_result",
          "data": {
            "text/plain": [
              "SGDRegressor(alpha=0.001, average=False, early_stopping=False, epsilon=0.1,\n",
              "             eta0=0.001, fit_intercept=True, l1_ratio=0.15,\n",
              "             learning_rate='constant', loss='squared_loss', max_iter=1000,\n",
              "             n_iter_no_change=5, penalty='l2', power_t=0.25, random_state=0,\n",
              "             shuffle=True, tol=0.001, validation_fraction=0.1, verbose=0,\n",
              "             warm_start=False)"
            ]
          },
          "metadata": {
            "tags": []
          },
          "execution_count": 18
        }
      ]
    },
    {
      "cell_type": "markdown",
      "metadata": {
        "id": "JwsCCyRBQkkw",
        "colab_type": "text"
      },
      "source": [
        "Predicting the output for our Model with the test set"
      ]
    },
    {
      "cell_type": "code",
      "metadata": {
        "id": "zgn4SdFrQpBQ",
        "colab_type": "code",
        "colab": {}
      },
      "source": [
        "y_pred = regressor.predict(X_test)\n"
      ],
      "execution_count": 0,
      "outputs": []
    },
    {
      "cell_type": "markdown",
      "metadata": {
        "id": "mTVCrAcbQz_B",
        "colab_type": "text"
      },
      "source": [
        "Now lets calculate the Coefficient of Determination and the RMSE for our training set"
      ]
    },
    {
      "cell_type": "code",
      "metadata": {
        "id": "W2o93PaJQ0zE",
        "colab_type": "code",
        "colab": {
          "base_uri": "https://localhost:8080/",
          "height": 134
        },
        "outputId": "cf33ae8a-b103-4a09-8e82-9c5ad4f06671"
      },
      "source": [
        "from sklearn.metrics import r2_score , mean_squared_error\n",
        "\n",
        "rmse_train = (np.sqrt(mean_squared_error(y_train, regressor.predict(X_train) )))\n",
        "r_squared_train = r2_score(y_train , regressor.predict(X_train))\n",
        "print(\"R squared for the training set\")\n",
        "print(\"---------------------------------\")\n",
        "print(r_squared_train)\n",
        "print(\"---------------------------------\")\n",
        "print(\"RMSEfor the training set\")\n",
        "print(\"---------------------------------\")\n",
        "print(rmse_train)\n"
      ],
      "execution_count": 20,
      "outputs": [
        {
          "output_type": "stream",
          "text": [
            "R squared for the training set\n",
            "---------------------------------\n",
            "0.844738260783561\n",
            "---------------------------------\n",
            "RMSEfor the training set\n",
            "---------------------------------\n",
            "6.641245172136188\n"
          ],
          "name": "stdout"
        }
      ]
    },
    {
      "cell_type": "markdown",
      "metadata": {
        "id": "DSKGAbUzQ41I",
        "colab_type": "text"
      },
      "source": [
        "Now lets calculate the Coefficient of Determination and the RMSE for our training set"
      ]
    },
    {
      "cell_type": "code",
      "metadata": {
        "id": "i_qdECwnQ7mi",
        "colab_type": "code",
        "colab": {
          "base_uri": "https://localhost:8080/",
          "height": 134
        },
        "outputId": "8eb4c935-e18a-4748-e609-0f5fd608ac01"
      },
      "source": [
        "rmse_test = (np.sqrt(mean_squared_error(y_test, regressor.predict(X_test) )))\n",
        "r_squared_test = r2_score(y_test , regressor.predict(X_test))\n",
        "print(\"R squared for the testing set\")\n",
        "print(\"---------------------------------\")\n",
        "print(r_squared_test)\n",
        "print(\"---------------------------------\")\n",
        "print(\"RMSEfor the testing set\")\n",
        "print(\"---------------------------------\")\n",
        "print(rmse_test)\n"
      ],
      "execution_count": 21,
      "outputs": [
        {
          "output_type": "stream",
          "text": [
            "R squared for the testing set\n",
            "---------------------------------\n",
            "0.8282338744797906\n",
            "---------------------------------\n",
            "RMSEfor the testing set\n",
            "---------------------------------\n",
            "6.653369485321539\n"
          ],
          "name": "stdout"
        }
      ]
    },
    {
      "cell_type": "markdown",
      "metadata": {
        "id": "K7KZSIMKRDpj",
        "colab_type": "text"
      },
      "source": [
        "The **RMSE** and **R squared** are good for both the test and the training set. They have performed well for this dataset. \n",
        "\n",
        "---\n",
        "\n",
        "\n",
        "**But is this model the best?**\n",
        "\n",
        "No, we can surely improve in Polynomial Regression itself by doing some standard techiques like forward/ backward elimination and also using a powerful metric, the cross Validation to evaluate our model.\n"
      ]
    }
  ]
}